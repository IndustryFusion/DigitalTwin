{
 "cells": [
  {
   "cell_type": "code",
   "execution_count": null,
   "id": "1a464b1d-61ab-4a03-b395-b75fc9210a30",
   "metadata": {},
   "outputs": [],
   "source": [
    "%%flink_gateway_sql_prepare\n",
    "DROP TABLE IF EXISTS `filter`;\n",
    "CREATE TABLE `filter` (\n",
    "`id` STRING,\n",
    "`type` STRING,\n",
    "`https://industry-fusion.com/types/v0.9/state` STRING,\n",
    "`https://industry-fusion.com/types/v0.9/strength` STRING,\n",
    "`https://industry-fusion.com/types/v0.9/hasCartridge` STRING,\n",
    "`ts` TIMESTAMP(3) METADATA FROM 'timestamp') WITH (\n",
    "  'connector' = 'kafka',\n",
    "  'topic' = 'iff.ngsild.entities.filter',\n",
    "  'properties.bootstrap.servers' = 'my-cluster-kafka-bootstrap:9092',\n",
    "  'scan.startup.mode' = 'latest-offset',\n",
    "  'format' = 'json'\n",
    ");\n",
    "\n",
    "DROP VIEW IF EXISTS `filter_view`;\n",
    "CREATE VIEW `filter_view` AS\n",
    "SELECT `id`,`type`,\n",
    "`https://industry-fusion.com/types/v0.9/state`,\n",
    "`https://industry-fusion.com/types/v0.9/strength`,\n",
    "`https://industry-fusion.com/types/v0.9/hasCartridge`,\n",
    "`ts` FROM (\n",
    "  SELECT *,\n",
    "ROW_NUMBER() OVER (PARTITION BY `id`\n",
    "ORDER BY ts DESC) AS rownum\n",
    "FROM `filter` )\n",
    "WHERE rownum = 1;\n"
   ]
  },
  {
   "cell_type": "code",
   "execution_count": null,
   "id": "e0f396a1-c54b-4150-8cd3-24e796fe6f87",
   "metadata": {},
   "outputs": [],
   "source": [
    "%%flink_gateway_sql_prepare\n",
    "DROP TABLE IF EXISTS `cutter`;\n",
    "CREATE TABLE `cutter` (\n",
    "`id` STRING,\n",
    "`type` STRING,\n",
    "`https://industry-fusion.com/types/v0.9/state` STRING,\n",
    "`https://industry-fusion.com/types/v0.9/hasFilter` STRING,\n",
    "`https://industry-fusion.com/types/v0.9/hasInWorkpiece` STRING,\n",
    "`https://industry-fusion.com/types/v0.9/hasOutWorkpiece` STRING,\n",
    "`https://industry-fusion.com/oee/v0.9/availabilityState` STRING,\n",
    "\n",
    "`ts` TIMESTAMP(3) METADATA FROM 'timestamp') WITH (\n",
    "  'connector' = 'kafka',\n",
    "  'topic' = 'iff.ngsild.entities.cutter',\n",
    "  'properties.bootstrap.servers' = 'my-cluster-kafka-bootstrap:9092',\n",
    "  'scan.startup.mode' = 'latest-offset',\n",
    "  'format' = 'json'\n",
    ");\n",
    "DROP VIEW IF EXISTS `cutter_view`;\n",
    "CREATE VIEW `cutter_view` AS\n",
    "SELECT `id`,`type`,\n",
    "`https://industry-fusion.com/types/v0.9/state`,\n",
    "`https://industry-fusion.com/types/v0.9/hasFilter`,\n",
    "`https://industry-fusion.com/types/v0.9/hasInWorkpiece`,\n",
    "`https://industry-fusion.com/types/v0.9/hasOutWorkpiece`,\n",
    "`https://industry-fusion.com/oee/v0.9/availabilityState`,\n",
    "`ts` FROM (\n",
    "  SELECT *,\n",
    "ROW_NUMBER() OVER (PARTITION BY `id`\n",
    "ORDER BY ts DESC) AS rownum\n",
    "FROM `cutter` )\n",
    "WHERE rownum = 1;\n"
   ]
  },
  {
   "cell_type": "code",
   "execution_count": null,
   "id": "fb5f3608-2af3-43d8-ba14-c77f17549714",
   "metadata": {},
   "outputs": [],
   "source": [
    "%%flink_gateway_sql_prepare\n",
    "DROP TABLE IF EXISTS `rdf`;\n",
    "CREATE TABLE `rdf` (\n",
    "`subject` STRING,\n",
    "`predicate` STRING,\n",
    "`object` STRING,\n",
    "`index` INTEGER,\n",
    "PRIMARY KEY(`subject`,`predicate`,`index`)  NOT ENFORCED\n",
    ") WITH (\n",
    "  'connector' = 'upsert-kafka',\n",
    "  'topic' = 'iff.rdf',\n",
    "  'properties.bootstrap.servers' = 'my-cluster-kafka-bootstrap:9092',\n",
    "  'value.format' = 'json',\n",
    "  'key.format' = 'json'\n",
    ");\n"
   ]
  }
 ],
 "metadata": {
  "kernelspec": {
   "display_name": "Python 3 (ipykernel)",
   "language": "python",
   "name": "python3"
  },
  "language_info": {
   "codemirror_mode": {
    "name": "ipython",
    "version": 3
   },
   "file_extension": ".py",
   "mimetype": "text/x-python",
   "name": "python",
   "nbconvert_exporter": "python",
   "pygments_lexer": "ipython3",
   "version": "3.12.1"
  }
 },
 "nbformat": 4,
 "nbformat_minor": 5
}
