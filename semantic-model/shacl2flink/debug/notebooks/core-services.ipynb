{
 "cells": [
  {
   "cell_type": "code",
   "execution_count": null,
   "id": "b31f2056-0caa-42f8-8dee-edfe0168fbc8",
   "metadata": {},
   "outputs": [],
   "source": [
    "%flink_sql_replace -s '{{{{.Values.flink.ngsildUpdateWindow|squote}}}}' -r \"'0.001'\""
   ]
  },
  {
   "cell_type": "code",
   "execution_count": null,
   "id": "2ef92839-b57f-4df0-b17c-1849a0511fc8",
   "metadata": {},
   "outputs": [],
   "source": [
    "%%flink_gateway_sql_prepare\n",
    "SET 'pipeline.name' = 'NGSI-LD insert job';"
   ]
  },
  {
   "cell_type": "code",
   "execution_count": null,
   "id": "5571b21c-4aa8-405b-90b2-5773f4fb7b12",
   "metadata": {},
   "outputs": [],
   "source": [
    "%%flink_gateway_sql_query\n",
    "/* aggregates entities from attributes topic and insert it every 2 seconds in update channel\n",
    "            part of CORE SERVICES */\n",
    "insert into ngsild_updates\n",
    "select 'update', true, true, '[{\"id\": \"' || id || '\",' || LISTAGG(attributeagg) || '}]'\n",
    "          from (\n",
    "              select  window_start, window_end, B.entityId as id, '\"' || B.name || '\":[' || LISTAGG(B.indexagg) || ']' as attributeagg\n",
    "              from(\n",
    "                  select window_start, window_end, entityId, name,\n",
    "                  '{\"observedAt\": \"' || LAST_VALUE(DATE_FORMAT(A.`ts`,  'yyyy-MM-dd''T''HH:mm:ss.') || CAST(EXTRACT(MILLISECOND from A.`ts`) as STRING)) || 'Z\", \"type\": \"'\n",
    "                          || LAST_VALUE(A.`type`)\n",
    "                          || IF(LAST_VALUE(A.`type`) =  'https://uri.etsi.org/ngsi-ld/Relationship','\", \"object\": \"', '\", \"value\": ')\n",
    "                          || IF(LAST_VALUE(A.`type`) =  'https://uri.etsi.org/ngsi-ld/Relationship', LAST_VALUE(A.`https://uri.etsi.org/ngsi-ld/hasObject`) || '\"',\n",
    "                                  \n",
    "                                  IF((LAST_VALUE(A.nodeType) <> '@json' AND LAST_VALUE(A.nodeType) <> '@id') OR LAST_VALUE(A.nodeType) IS NULL, '\"' || LAST_VALUE(A.`https://uri.etsi.org/ngsi-ld/hasValue`) || '\"',\n",
    "                                      /* @id needs encoding with \"@id\": value */\n",
    "                                      IF(LAST_VALUE(A.nodeType) = '@id', '{\"@id\": \"' || LAST_VALUE(A.`https://uri.etsi.org/ngsi-ld/hasValue`) || '\"}',\n",
    "                                      /* @json is put directly into value field */\n",
    "                                          IF(LAST_VALUE(A.nodeType) = '@json', LAST_VALUE(A.`https://uri.etsi.org/ngsi-ld/hasValue`), 'null' /*should not happen */)))\n",
    "                          )\n",
    "                          || '}' as indexagg\n",
    "                  FROM TABLE( TUMBLE(TABLE attributes, DESCRIPTOR(ts), INTERVAL {{.Values.flink.ngsildUpdateWindow|squote}} second)) as A\n",
    "                  WHERE A.entityId IS NOT NULL\n",
    "                  GROUP BY A.entityId, A.index, A.name, window_start, window_end) as B\n",
    "              GROUP BY window_start, window_end, entityId, name\n",
    "          ) GROUP BY window_start, window_end, id;"
   ]
  },
  {
   "cell_type": "code",
   "execution_count": null,
   "id": "fb5f3608-2af3-43d8-ba14-c77f17549714",
   "metadata": {},
   "outputs": [],
   "source": []
  }
 ],
 "metadata": {
  "kernelspec": {
   "display_name": "Python 3 (ipykernel)",
   "language": "python",
   "name": "python3"
  },
  "language_info": {
   "codemirror_mode": {
    "name": "ipython",
    "version": 3
   },
   "file_extension": ".py",
   "mimetype": "text/x-python",
   "name": "python",
   "nbconvert_exporter": "python",
   "pygments_lexer": "ipython3",
   "version": "3.12.1"
  }
 },
 "nbformat": 4,
 "nbformat_minor": 5
}
