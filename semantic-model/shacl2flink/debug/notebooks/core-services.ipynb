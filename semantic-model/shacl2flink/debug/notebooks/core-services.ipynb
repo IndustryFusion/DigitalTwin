{
 "cells": [
  {
   "cell_type": "code",
   "execution_count": null,
   "id": "b31f2056-0caa-42f8-8dee-edfe0168fbc8",
   "metadata": {},
   "outputs": [],
   "source": [
    "%flink_sql_replace -s '{{{{.Values.flink.ngsildUpdateWindow|squote}}}}' -r \"'0.001'\""
   ]
  },
  {
   "cell_type": "code",
   "execution_count": null,
   "id": "2ef92839-b57f-4df0-b17c-1849a0511fc8",
   "metadata": {},
   "outputs": [],
   "source": [
    "%%flink_gateway_sql_prepare\n",
    "SET 'pipeline.name' = 'NGSI-LD insert job';"
   ]
  },
  {
   "cell_type": "code",
   "execution_count": null,
   "id": "5571b21c-4aa8-405b-90b2-5773f4fb7b12",
   "metadata": {
    "scrolled": true
   },
   "outputs": [],
   "source": [
    "%%flink_gateway_sql_query\n",
    "INSERT INTO ngsild_updates\n",
    "SELECT \n",
    "    'update', \n",
    "    true, \n",
    "    true, \n",
    "    '[{\"id\": \"' || id || '\",' || LISTAGG(attributeagg) || '}]'\n",
    "FROM (\n",
    "    SELECT  \n",
    "        window_start, \n",
    "        window_end, \n",
    "        entityId AS id, \n",
    "        '\"' || name || '\":[' || LISTAGG(indexagg) || ']' AS attributeagg\n",
    "    FROM (\n",
    "        SELECT \n",
    "            window_start, \n",
    "            window_end, \n",
    "            entityId, \n",
    "            name,\n",
    "            /* Construct the JSON string for the latest value */\n",
    "            '{\"observedAt\": \"' || DATE_FORMAT(ts, 'yyyy-MM-dd''T''HH:mm:ss.') || CAST(EXTRACT(MILLISECOND FROM ts) AS STRING) || 'Z\", \"type\": \"'\n",
    "            || type\n",
    "            || '\", \"datasetId\": \"'\n",
    "            || IF(datasetId IS NOT NULL, datasetId, '@none')\n",
    "            || IF(type = 'https://uri.etsi.org/ngsi-ld/Relationship', '\", \"object\": \"', '\", \"value\": ')\n",
    "            || IF(type = 'https://uri.etsi.org/ngsi-ld/Relationship', attributeValue || '\"',\n",
    "                IF(\n",
    "                    (nodeType <> '@json' AND nodeType <> '@id') OR nodeType IS NULL,\n",
    "                    '\"' || attributeValue || '\"',\n",
    "                    IF(nodeType = '@id', '{\"@id\": \"' || attributeValue || '\"}',\n",
    "                        IF(nodeType = '@json', attributeValue, 'null' /*should not happen */)\n",
    "                    )\n",
    "                )\n",
    "            )\n",
    "            || '}' AS indexagg\n",
    "        FROM (\n",
    "            SELECT *, \n",
    "                   ROW_NUMBER() OVER (\n",
    "                       PARTITION BY entityId, name, datasetId, window_start, window_end\n",
    "                       ORDER BY ts DESC\n",
    "                   ) AS row_num\n",
    "            FROM TABLE(\n",
    "                TUMBLE(TABLE attributes, DESCRIPTOR(ts), INTERVAL {{.Values.flink.ngsildUpdateWindow|squote}} second)\n",
    "            )\n",
    "            WHERE entityId IS NOT NULL \n",
    "                AND (deleted IS NULL OR deleted = false) \n",
    "                AND (synced IS NULL OR synced = false)\n",
    "        ) AS ranked_data\n",
    "        WHERE row_num = 1 -- Select only the most recent value for each group\n",
    "    ) AS filtered_data\n",
    "    GROUP BY window_start, window_end, entityId, name\n",
    ") AS aggregated_data\n",
    "GROUP BY window_start, window_end, id;\n",
    "\n"
   ]
  },
  {
   "cell_type": "code",
   "execution_count": null,
   "id": "7a758890-6708-4ddb-8277-b81d0e42ba49",
   "metadata": {},
   "outputs": [],
   "source": [
    "%%flink_gateway_sql_prepare\n",
    "SET 'pipeline.name' = 'Attribute insert job';"
   ]
  },
  {
   "cell_type": "code",
   "execution_count": null,
   "id": "bfa01ff6-d3c0-4f15-b63a-ff0f4f62bdb0",
   "metadata": {},
   "outputs": [],
   "source": [
    "%flink_sql_replace -s '{{{{ .Values.flink.attributeInsertWindow |squote }}}}' -r \"'0.001'\""
   ]
  },
  {
   "cell_type": "code",
   "execution_count": null,
   "id": "fb5f3608-2af3-43d8-ba14-c77f17549714",
   "metadata": {},
   "outputs": [],
   "source": [
    "%%flink_gateway_sql_query\n",
    "           /* forward only non-retracted attribute changes\n",
    "            This is part of the core service */\n",
    "            insert into attributes_writeback\n",
    "            select id, parentId, entityId, name, nodeType, valueType, `type`, `attributeValue`, `datasetId`, `unitCode`, `deleted`, `synced` from\n",
    "            (select id, last_value(parentId) as parentId, last_value(entityId) as entityId, last_value(name) as name, last_value(nodeType) as nodeType,\n",
    "                last_value(valueType) as valueType , last_value(`type`) as `type`,\n",
    "            last_value(`attributeValue`) as `attributeValue`,\n",
    "            `datasetId` as `datasetId`, last_value(`unitCode`) as `unitCode`, last_value(`deleted`) as `deleted`, last_value(`synced`) as `synced`,\n",
    "              TUMBLE_START(ts, INTERVAL {{ .Values.flink.attributeInsertWindow |squote }} SECOND),\n",
    "              TUMBLE_END(ts, INTERVAL {{ .Values.flink.attributeInsertWindow |squote }} SECOND)\n",
    "            from attributes_insert\n",
    "            group by `id`, `datasetId`, TUMBLE(ts, INTERVAL {{ .Values.flink.attributeInsertWindow |squote }} SECOND));"
   ]
  },
  {
   "cell_type": "code",
   "execution_count": null,
   "id": "80ec8cdd-cbe9-4fb0-bff1-4c64717a18bc",
   "metadata": {},
   "outputs": [],
   "source": [
    "%flink_sql_replace -s '{{{{.Values.flink.alertWindow | squote}}}}' -r \"'0.5'\""
   ]
  },
  {
   "cell_type": "code",
   "execution_count": null,
   "id": "9c4e1396-99c4-4749-b88d-6bd25ff26496",
   "metadata": {},
   "outputs": [],
   "source": [
    "%%flink_gateway_sql_query\n",
    "    \n",
    "WITH WindowedAlerts AS (\n",
    "    SELECT \n",
    "        `resource`, \n",
    "        `event`,\n",
    "        `environment`,\n",
    "        `service`,\n",
    "        `customer`,\n",
    "        LAST_VALUE(severity) AS `severity`,\n",
    "        LAST_VALUE(`text`) AS `text`,\n",
    "        TUMBLE_START(`ts`, INTERVAL {{.Values.flink.alertWindow | squote}} SECOND) AS window_start,\n",
    "        TUMBLE_END(`ts`, INTERVAL {{.Values.flink.alertWindow | squote}} SECOND) AS window_end,\n",
    "        TUMBLE_ROWTIME(`ts`, INTERVAL {{.Values.flink.alertWindow | squote}} SECOND) AS window_time\n",
    "    FROM TABLE(\n",
    "        TUMBLE(TABLE alerts_bulk, DESCRIPTOR(ts), INTERVAL {{.Values.flink.alertWindow | squote}} SECOND)\n",
    "    )\n",
    "    GROUP BY \n",
    "        `resource`, \n",
    "        `event`, \n",
    "        `service`, \n",
    "        `customer`, \n",
    "        `environment`, \n",
    "        TUMBLE(`ts`, INTERVAL {{.Values.flink.alertWindow | squote}} SECOND)\n",
    "),\n",
    "AlertsWithPreviousSeverity AS (\n",
    "    SELECT\n",
    "        `resource`,\n",
    "        `event`,\n",
    "        `environment`,\n",
    "        `service`,\n",
    "        `customer`,\n",
    "        `severity`,\n",
    "        `text`,\n",
    "        `window_end`,\n",
    "        `window_time`,\n",
    "        LAG(`severity`) OVER (\n",
    "            PARTITION BY `resource`, `event`, `service`, `customer`, `environment`\n",
    "            ORDER BY `window_time`\n",
    "        ) AS prev_severity\n",
    "    FROM WindowedAlerts\n",
    ")\n",
    "SELECT \n",
    "    `resource`,\n",
    "    `event`,\n",
    "    `environment`,\n",
    "    `service`,\n",
    "    `severity`,\n",
    "    `customer`,\n",
    "    `text`\n",
    "FROM \n",
    "    AlertsWithPreviousSeverity\n",
    "WHERE \n",
    "    prev_severity IS NULL OR severity <> prev_severity;\n",
    "\n",
    "\n"
   ]
  },
  {
   "cell_type": "code",
   "execution_count": null,
   "id": "154ec144-f199-450a-b4c7-212d12ecd0a9",
   "metadata": {},
   "outputs": [],
   "source": []
  }
 ],
 "metadata": {
  "kernelspec": {
   "display_name": "Python 3 (ipykernel)",
   "language": "python",
   "name": "python3"
  },
  "language_info": {
   "codemirror_mode": {
    "name": "ipython",
    "version": 3
   },
   "file_extension": ".py",
   "mimetype": "text/x-python",
   "name": "python",
   "nbconvert_exporter": "python",
   "pygments_lexer": "ipython3",
   "version": "3.12.1"
  }
 },
 "nbformat": 4,
 "nbformat_minor": 5
}
