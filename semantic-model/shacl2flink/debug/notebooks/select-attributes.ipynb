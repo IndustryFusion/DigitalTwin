{
 "cells": [
  {
   "cell_type": "code",
   "execution_count": 1,
   "id": "42fb3e84-5c88-405c-b21c-4d2d9e8c460a",
   "metadata": {},
   "outputs": [],
   "source": [
    "%load_ext jupyflink.magics"
   ]
  },
  {
   "cell_type": "code",
   "execution_count": 2,
   "id": "203f46e3-d9c5-47a0-ad2a-b4434b69feff",
   "metadata": {},
   "outputs": [
    {
     "name": "stdout",
     "output_type": "stream",
     "text": [
      "SessionHandle: a728922e-8b64-497a-a60d-77eee1de3bca\n"
     ]
    }
   ],
   "source": [
    "%flink_gateway_init"
   ]
  },
  {
   "cell_type": "code",
   "execution_count": 3,
   "id": "b84f793d-491a-4179-92ee-1fd51ee28c82",
   "metadata": {},
   "outputs": [
    {
     "name": "stdout",
     "output_type": "stream",
     "text": [
      "http://flink-jobmanager:8083/v1/sessions/a728922e-8b64-497a-a60d-77eee1de3bca/statements\n",
      "<Response [200]>\n",
      "OperationHandle fcb659ec-5e13-4232-ad92-a8345eee2073\n",
      "Status: FINISHED\n",
      "result: {'results': {'columns': [{'name': 'result', 'logicalType': {'type': 'VARCHAR', 'nullable': True, 'length': 2147483647}, 'comment': None}], 'data': [{'kind': 'INSERT', 'fields': ['OK']}]}, 'resultType': 'PAYLOAD', 'nextResultUri': '/v1/sessions/a728922e-8b64-497a-a60d-77eee1de3bca/operations/fcb659ec-5e13-4232-ad92-a8345eee2073/result/1'}\n"
     ]
    }
   ],
   "source": [
    "%%flink_gateway_sql_prepare\n",
    "ADD JAR '/opt/gateway/jars/flink-sql-connector-kafka-1.16.2.jar';"
   ]
  },
  {
   "cell_type": "code",
   "execution_count": 4,
   "id": "e8458c1c-55e7-4bd1-8399-62e5e4e02472",
   "metadata": {},
   "outputs": [
    {
     "name": "stdout",
     "output_type": "stream",
     "text": [
      "http://flink-jobmanager:8083/v1/sessions/a728922e-8b64-497a-a60d-77eee1de3bca/statements\n",
      "<Response [200]>\n",
      "OperationHandle e3360d3e-8e59-4b40-a6cc-b5cab01f3170\n",
      "Status: RUNNING\n",
      "Status: FINISHED\n",
      "result: {'results': {'columns': [{'name': 'result', 'logicalType': {'type': 'VARCHAR', 'nullable': True, 'length': 2147483647}, 'comment': None}], 'data': [{'kind': 'INSERT', 'fields': ['OK']}]}, 'resultType': 'PAYLOAD', 'nextResultUri': '/v1/sessions/a728922e-8b64-497a-a60d-77eee1de3bca/operations/e3360d3e-8e59-4b40-a6cc-b5cab01f3170/result/1'}\n"
     ]
    }
   ],
   "source": [
    "%%flink_gateway_sql_prepare\n",
    "drop table if exists attributes;"
   ]
  },
  {
   "cell_type": "code",
   "execution_count": 5,
   "id": "1a464b1d-61ab-4a03-b395-b75fc9210a30",
   "metadata": {},
   "outputs": [
    {
     "name": "stdout",
     "output_type": "stream",
     "text": [
      "http://flink-jobmanager:8083/v1/sessions/a728922e-8b64-497a-a60d-77eee1de3bca/statements\n",
      "<Response [200]>\n",
      "OperationHandle 81449415-d570-4298-bf71-ef0b53eaa034\n",
      "Status: RUNNING\n",
      "Status: FINISHED\n",
      "result: {'results': {'columns': [{'name': 'result', 'logicalType': {'type': 'VARCHAR', 'nullable': True, 'length': 2147483647}, 'comment': None}], 'data': [{'kind': 'INSERT', 'fields': ['OK']}]}, 'resultType': 'PAYLOAD', 'nextResultUri': '/v1/sessions/a728922e-8b64-497a-a60d-77eee1de3bca/operations/81449415-d570-4298-bf71-ef0b53eaa034/result/1'}\n"
     ]
    }
   ],
   "source": [
    "%%flink_gateway_sql_prepare\n",
    "CREATE TABLE attributes (\n",
    "  id STRING,\n",
    "  `type` STRING,\n",
    "  `value` STRING,\n",
    "  `object` STRING,\n",
    "  `ts` TIMESTAMP(3) METADATA FROM 'timestamp',\n",
    "  WATERMARK FOR ts AS ts\n",
    ") WITH (\n",
    "  'connector' = 'kafka',\n",
    "  'topic' = 'iff.ngsild.attributes',\n",
    "  'properties.bootstrap.servers' = 'my-cluster-kafka-bootstrap:9092',\n",
    "  'scan.startup.mode' = 'earliest-offset',\n",
    "  'format' = 'json'\n",
    ");"
   ]
  },
  {
   "cell_type": "code",
   "execution_count": 7,
   "id": "5571b21c-4aa8-405b-90b2-5773f4fb7b12",
   "metadata": {},
   "outputs": [
    {
     "name": "stdout",
     "output_type": "stream",
     "text": [
      "http://flink-jobmanager:8083/v1/sessions/a728922e-8b64-497a-a60d-77eee1de3bca/statements\n",
      "<Response [200]>\n",
      "OperationHandle 8755975e-482f-4b96-9a34-635e968cb7a5\n",
      "Status: RUNNING\n",
      "Status: FINISHED\n",
      "result: {'results': {'columns': [{'name': 'id', 'logicalType': {'type': 'VARCHAR', 'nullable': True, 'length': 2147483647}, 'comment': None}, {'name': 'type', 'logicalType': {'type': 'VARCHAR', 'nullable': True, 'length': 2147483647}, 'comment': None}, {'name': 'value', 'logicalType': {'type': 'VARCHAR', 'nullable': True, 'length': 2147483647}, 'comment': None}, {'name': 'object', 'logicalType': {'type': 'VARCHAR', 'nullable': True, 'length': 2147483647}, 'comment': None}, {'name': 'ts', 'logicalType': {'type': 'TIMESTAMP_WITHOUT_TIME_ZONE', 'nullable': True, 'precision': 3}, 'comment': None}], 'data': []}, 'resultType': 'PAYLOAD', 'nextResultUri': '/v1/sessions/a728922e-8b64-497a-a60d-77eee1de3bca/operations/8755975e-482f-4b96-9a34-635e968cb7a5/result/1'}\n",
      "urn:iff:testdevice:1\\http://example.com/temp, https://uri.etsi.org/ngsi-ld/Property, None, None, 2024-01-02T12:15:46.08\n",
      "urn:iff:testdevice:1\\http://example.com/temp2, https://uri.etsi.org/ngsi-ld/Property, None, None, 2024-01-02T12:15:46.08\n",
      "urn:iff:testdevice:1\\http://example.com/temp, https://uri.etsi.org/ngsi-ld/Property, None, None, 2024-01-02T12:15:47.08\n",
      "urn:iff:testdevice:1\\http://example.com/temp2, https://uri.etsi.org/ngsi-ld/Property, None, None, 2024-01-02T12:15:47.08\n",
      "urn:iff:testdevice:1\\http://example.com/temp, https://uri.etsi.org/ngsi-ld/Property, None, None, 2024-01-02T12:15:47.931\n",
      "urn:iff:testdevice:1\\http://example.com/temp2, https://uri.etsi.org/ngsi-ld/Property, None, None, 2024-01-02T12:15:47.931\n",
      "urn:iff:testdevice:1\\http://example.com/temp, https://uri.etsi.org/ngsi-ld/Property, None, None, 2024-01-02T12:48:28.493\n",
      "urn:iff:testdevice:1\\http://example.com/temp2, https://uri.etsi.org/ngsi-ld/Property, None, None, 2024-01-02T12:48:28.493\n",
      "urn:iff:testdevice:1\\http://example.com/temp, https://uri.etsi.org/ngsi-ld/Property, None, None, 2024-01-02T12:48:29.243\n",
      "urn:iff:testdevice:1\\http://example.com/temp2, https://uri.etsi.org/ngsi-ld/Property, None, None, 2024-01-02T12:48:29.243\n",
      "urn:iff:testdevice:1\\http://example.com/temp, https://uri.etsi.org/ngsi-ld/Property, None, None, 2024-01-02T12:48:29.895\n",
      "urn:iff:testdevice:1\\http://example.com/temp2, https://uri.etsi.org/ngsi-ld/Property, None, None, 2024-01-02T12:48:29.895\n",
      "urn:iff:testdevice:1\\http://example.com/temp, https://uri.etsi.org/ngsi-ld/Property, None, None, 2024-01-02T12:48:30.196\n",
      "urn:iff:testdevice:1\\http://example.com/temp2, https://uri.etsi.org/ngsi-ld/Property, None, None, 2024-01-02T12:48:30.196\n",
      "urn:iff:testdevice:1\\http://example.com/temp, https://uri.etsi.org/ngsi-ld/Property, None, None, 2024-01-02T12:48:30.495\n",
      "urn:iff:testdevice:1\\http://example.com/temp2, https://uri.etsi.org/ngsi-ld/Property, None, None, 2024-01-02T12:48:30.495\n",
      "urn:plasmacutter:1\\https://industry-fusion.com/types/v0.9/state, https://uri.etsi.org/ngsi-ld/Property, None, None, 2024-01-02T21:00:07.977\n",
      "urn:plasmacutter:1\\https://industry-fusion.com/types/v0.9/hasFilter, https://uri.etsi.org/ngsi-ld/Relationship, None, None, 2024-01-02T21:00:07.977\n",
      "urn:plasmacutter:1\\https://industry-fusion.com/types/v0.9/hasInWorkpiece, https://uri.etsi.org/ngsi-ld/Relationship, None, None, 2024-01-02T21:00:07.977\n",
      "urn:iff:testdevice:1\\http://example.com/temp, https://uri.etsi.org/ngsi-ld/Property, None, None, 2024-01-02T23:17:31.165\n",
      "urn:iff:testdevice:1\\http://example.com/temp2, https://uri.etsi.org/ngsi-ld/Property, None, None, 2024-01-02T23:17:31.165\n",
      "urn:plasmacutter:1\\https://industry-fusion.com/types/v0.9/state, https://uri.etsi.org/ngsi-ld/Property, None, None, 2024-01-03T09:00:08.166\n",
      "urn:plasmacutter:1\\https://industry-fusion.com/types/v0.9/hasFilter, https://uri.etsi.org/ngsi-ld/Relationship, None, None, 2024-01-03T09:00:08.166\n",
      "urn:plasmacutter:1\\https://industry-fusion.com/types/v0.9/hasInWorkpiece, https://uri.etsi.org/ngsi-ld/Relationship, None, None, 2024-01-03T09:00:08.166\n",
      "urn:plasmacutter:1\\https://industry-fusion.com/types/v0.9/state, https://uri.etsi.org/ngsi-ld/Property, None, None, 2024-01-03T21:00:08.127\n",
      "urn:plasmacutter:1\\https://industry-fusion.com/types/v0.9/hasFilter, https://uri.etsi.org/ngsi-ld/Relationship, None, None, 2024-01-03T21:00:08.127\n",
      "urn:plasmacutter:1\\https://industry-fusion.com/types/v0.9/hasInWorkpiece, https://uri.etsi.org/ngsi-ld/Relationship, None, None, 2024-01-03T21:00:08.127\n"
     ]
    },
    {
     "ename": "KeyboardInterrupt",
     "evalue": "",
     "output_type": "error",
     "traceback": [
      "\u001b[0;31m---------------------------------------------------------------------------\u001b[0m",
      "\u001b[0;31mKeyboardInterrupt\u001b[0m                         Traceback (most recent call last)",
      "Cell \u001b[0;32mIn[7], line 1\u001b[0m\n\u001b[0;32m----> 1\u001b[0m \u001b[43mget_ipython\u001b[49m\u001b[43m(\u001b[49m\u001b[43m)\u001b[49m\u001b[38;5;241;43m.\u001b[39;49m\u001b[43mrun_cell_magic\u001b[49m\u001b[43m(\u001b[49m\u001b[38;5;124;43m'\u001b[39;49m\u001b[38;5;124;43mflink_gateway_sql_query\u001b[39;49m\u001b[38;5;124;43m'\u001b[39;49m\u001b[43m,\u001b[49m\u001b[43m \u001b[49m\u001b[38;5;124;43m'\u001b[39;49m\u001b[38;5;124;43m'\u001b[39;49m\u001b[43m,\u001b[49m\u001b[43m \u001b[49m\u001b[38;5;124;43m'\u001b[39;49m\u001b[38;5;124;43mSELECT * FROM attributes;\u001b[39;49m\u001b[38;5;130;43;01m\\n\u001b[39;49;00m\u001b[38;5;124;43m'\u001b[39;49m\u001b[43m)\u001b[49m\n",
      "File \u001b[0;32m~/miniconda3/envs/jupyterlab-ext/lib/python3.12/site-packages/IPython/core/interactiveshell.py:2517\u001b[0m, in \u001b[0;36mInteractiveShell.run_cell_magic\u001b[0;34m(self, magic_name, line, cell)\u001b[0m\n\u001b[1;32m   2515\u001b[0m \u001b[38;5;28;01mwith\u001b[39;00m \u001b[38;5;28mself\u001b[39m\u001b[38;5;241m.\u001b[39mbuiltin_trap:\n\u001b[1;32m   2516\u001b[0m     args \u001b[38;5;241m=\u001b[39m (magic_arg_s, cell)\n\u001b[0;32m-> 2517\u001b[0m     result \u001b[38;5;241m=\u001b[39m \u001b[43mfn\u001b[49m\u001b[43m(\u001b[49m\u001b[38;5;241;43m*\u001b[39;49m\u001b[43margs\u001b[49m\u001b[43m,\u001b[49m\u001b[43m \u001b[49m\u001b[38;5;241;43m*\u001b[39;49m\u001b[38;5;241;43m*\u001b[39;49m\u001b[43mkwargs\u001b[49m\u001b[43m)\u001b[49m\n\u001b[1;32m   2519\u001b[0m \u001b[38;5;66;03m# The code below prevents the output from being displayed\u001b[39;00m\n\u001b[1;32m   2520\u001b[0m \u001b[38;5;66;03m# when using magics with decorator @output_can_be_silenced\u001b[39;00m\n\u001b[1;32m   2521\u001b[0m \u001b[38;5;66;03m# when the last Python token in the expression is a ';'.\u001b[39;00m\n\u001b[1;32m   2522\u001b[0m \u001b[38;5;28;01mif\u001b[39;00m \u001b[38;5;28mgetattr\u001b[39m(fn, magic\u001b[38;5;241m.\u001b[39mMAGIC_OUTPUT_CAN_BE_SILENCED, \u001b[38;5;28;01mFalse\u001b[39;00m):\n",
      "File \u001b[0;32m~/src/jupyterlab/jupyflink/jupyflink/magics.py:148\u001b[0m, in \u001b[0;36mIntegrations.flink_gateway_sql_query\u001b[0;34m(self, line, cell)\u001b[0m\n\u001b[1;32m    146\u001b[0m \u001b[38;5;28mself\u001b[39m\u001b[38;5;241m.\u001b[39mformat_column_result_data(result)\n\u001b[1;32m    147\u001b[0m \u001b[38;5;28;01mwhile\u001b[39;00m \u001b[38;5;28;01mTrue\u001b[39;00m:\n\u001b[0;32m--> 148\u001b[0m     \u001b[43mtime\u001b[49m\u001b[38;5;241;43m.\u001b[39;49m\u001b[43msleep\u001b[49m\u001b[43m(\u001b[49m\u001b[38;5;241;43m2\u001b[39;49m\u001b[43m)\u001b[49m\n\u001b[1;32m    149\u001b[0m     result \u001b[38;5;241m=\u001b[39m \u001b[38;5;28mself\u001b[39m\u001b[38;5;241m.\u001b[39mget_result(session_handle, operation_handle, next_result_uri)\n\u001b[1;32m    150\u001b[0m     \u001b[38;5;66;03m#print(f\"result: {result}\")\u001b[39;00m\n",
      "\u001b[0;31mKeyboardInterrupt\u001b[0m: "
     ]
    }
   ],
   "source": [
    "%%flink_gateway_sql_query\n",
    "SELECT * FROM attributes;"
   ]
  },
  {
   "cell_type": "code",
   "execution_count": null,
   "id": "fb5f3608-2af3-43d8-ba14-c77f17549714",
   "metadata": {},
   "outputs": [],
   "source": []
  }
 ],
 "metadata": {
  "kernelspec": {
   "display_name": "Python 3 (ipykernel)",
   "language": "python",
   "name": "python3"
  },
  "language_info": {
   "codemirror_mode": {
    "name": "ipython",
    "version": 3
   },
   "file_extension": ".py",
   "mimetype": "text/x-python",
   "name": "python",
   "nbconvert_exporter": "python",
   "pygments_lexer": "ipython3",
   "version": "3.12.1"
  }
 },
 "nbformat": 4,
 "nbformat_minor": 5
}
