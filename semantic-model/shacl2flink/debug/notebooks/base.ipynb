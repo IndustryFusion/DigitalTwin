{
 "cells": [
  {
   "cell_type": "code",
   "execution_count": null,
   "id": "42fb3e84-5c88-405c-b21c-4d2d9e8c460a",
   "metadata": {},
   "outputs": [],
   "source": [
    "%load_ext jupyflink.magics"
   ]
  },
  {
   "cell_type": "code",
   "execution_count": null,
   "id": "203f46e3-d9c5-47a0-ad2a-b4434b69feff",
   "metadata": {},
   "outputs": [],
   "source": [
    "%flink_gateway_init --debug"
   ]
  },
  {
   "cell_type": "code",
   "execution_count": null,
   "id": "b84f793d-491a-4179-92ee-1fd51ee28c82",
   "metadata": {},
   "outputs": [],
   "source": [
    "%%flink_gateway_sql_prepare\n",
    "ADD JAR '/opt/gateway/jars/flink-sql-connector-kafka-1.16.2.jar';"
   ]
  },
  {
   "cell_type": "code",
   "execution_count": null,
   "id": "1a464b1d-61ab-4a03-b395-b75fc9210a30",
   "metadata": {},
   "outputs": [],
   "source": [
    "%%flink_gateway_sql_prepare\n",
    "drop table if exists attributes;\n",
    "CREATE TABLE attributes (\n",
    "  `id` STRING,\n",
    "  `entityId` STRING,\n",
    "  `name` STRING,\n",
    "  `nodeType` STRING,\n",
    "  `valueType` STRING,\n",
    "  `index` INTEGER,\n",
    "  `type` STRING,\n",
    "  `https://uri.etsi.org/ngsi-ld/datasetId` STRING,\n",
    "  `https://uri.etsi.org/ngsi-ld/hasValue` STRING,\n",
    "  `https://uri.etsi.org/ngsi-ld/hasObject` STRING,\n",
    "  `ts` TIMESTAMP(3) METADATA FROM 'timestamp',\n",
    "  WATERMARK FOR ts AS ts\n",
    ") WITH (\n",
    "  'connector' = 'kafka',\n",
    "  'topic' = 'iff.ngsild.attributes',\n",
    "  'properties.bootstrap.servers' = 'my-cluster-kafka-bootstrap:9092',\n",
    "  'scan.startup.mode' = 'earliest-offset',\n",
    "  'format' = 'json'\n",
    ");\n",
    "DROP VIEW IF EXISTS `attributes_view`;\n",
    "CREATE VIEW `attributes_view` AS\n",
    "SELECT `id`,`type`,\n",
    "`entityId`,\n",
    "`name`,\n",
    "`nodeType`,\n",
    "`valueType`,\n",
    "`index`,\n",
    "`https://uri.etsi.org/ngsi-ld/datasetId`,\n",
    "`https://uri.etsi.org/ngsi-ld/hasValue`,\n",
    "`https://uri.etsi.org/ngsi-ld/hasObject`,\n",
    "`ts` FROM (\n",
    "  SELECT *,\n",
    "ROW_NUMBER() OVER (PARTITION BY `id`,`https://uri.etsi.org/ngsi-ld/datasetId`\n",
    "ORDER BY ts DESC) AS rownum\n",
    "FROM `attributes` )\n",
    "WHERE rownum = 1;\n"
   ]
  },
  {
   "cell_type": "code",
   "execution_count": null,
   "id": "c061c109-720e-46b0-8632-86833d57afda",
   "metadata": {},
   "outputs": [],
   "source": [
    "%%flink_gateway_sql_prepare\n",
    "drop table if exists ngsild_updates;\n",
    "CREATE TABLE ngsild_updates (\n",
    "  `op` STRING,\n",
    "  `overwriteOrReplace` Boolean,\n",
    "  `noForward` Boolean,\n",
    "  `entities` STRING\n",
    ") WITH (\n",
    "  'connector' = 'kafka',\n",
    "  'topic' = 'iff.ngsild-updates',\n",
    "  'properties.bootstrap.servers' = 'my-cluster-kafka-bootstrap:9092',\n",
    "  'scan.startup.mode' = 'latest-offset',\n",
    "  'format' = 'json'\n",
    ");"
   ]
  },
  {
   "cell_type": "code",
   "execution_count": null,
   "id": "fb5f3608-2af3-43d8-ba14-c77f17549714",
   "metadata": {},
   "outputs": [],
   "source": []
  }
 ],
 "metadata": {
  "kernelspec": {
   "display_name": "Python 3 (ipykernel)",
   "language": "python",
   "name": "python3"
  },
  "language_info": {
   "codemirror_mode": {
    "name": "ipython",
    "version": 3
   },
   "file_extension": ".py",
   "mimetype": "text/x-python",
   "name": "python",
   "nbconvert_exporter": "python",
   "pygments_lexer": "ipython3",
   "version": "3.12.1"
  }
 },
 "nbformat": 4,
 "nbformat_minor": 5
}
